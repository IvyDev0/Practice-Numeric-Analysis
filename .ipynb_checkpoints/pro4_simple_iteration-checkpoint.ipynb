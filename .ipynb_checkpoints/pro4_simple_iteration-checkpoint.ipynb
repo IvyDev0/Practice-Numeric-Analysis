{
 "cells": [
  {
   "cell_type": "markdown",
   "metadata": {
    "nbpresent": {
     "id": "700c8186-5a58-4f3b-af87-331c67273716"
    }
   },
   "source": [
    "## 课题4  迭代格式的比较\n",
    "\n",
    "### 201411212043  邓依伊\n",
    "\n",
    "<br>\n",
    "\n",
    "- **实验问题**\n",
    "\n",
    "对于方程 $f(x) = x^3 - 3x - 1 = 0$ 采用三种不同的迭代函数求其三个根\n",
    "\n",
    "$x1=1.87038$， $x2=-0.34727$，$x3=-1.53209$\n",
    "\n",
    "\n",
    "- **实验要求**\n",
    "\n",
    "1）编制程序，打印出每种迭代的敛散情况；\n",
    "\n",
    "2）使用终止准则 $|x_k+1 - x_k| < e$；\n",
    "\n",
    "3）分析初始值选取对迭代收敛有何影响；\n",
    "\n",
    "4）分析迭代收敛发散的原因。\n",
    "\n",
    "\n",
    "- **实验方法和步骤**\n",
    "\n",
    "1）构建迭代式：\n",
    "\n",
    "即 $ x_{k+1} = f(x_k),(k=0,1,2,...) $，其中 $ f(x) $ 为迭代函数。\n",
    "\n",
    "迭代算法如下："
   ]
  },
  {
   "cell_type": "code",
   "execution_count": 327,
   "metadata": {
    "collapsed": true
   },
   "outputs": [],
   "source": [
    "# 简单迭代法\n",
    "# f-迭代函数，section-区间，x0-初始值，\n",
    "# maxiter-最大迭代次数限制，e-精度要求。\n",
    "\n",
    "def Iteration(f, section, x0, maxiter, e): \n",
    "    y = lambda x: x\n",
    "    plt.plot(section, y(section), 'blue') \n",
    "    plt.plot(section, [f(xval) for xval in section], 'green')\n",
    "    ax = gca()\n",
    "    ax.spines['right'].set_color('none')\n",
    "    ax.spines['top'].set_color('none')\n",
    "    ax.xaxis.set_ticks_position('bottom')\n",
    "    ax.spines['bottom'].set_position(('data',0))\n",
    "    ax.yaxis.set_ticks_position('left')\n",
    "    ax.spines['left'].set_position(('data',0))\n",
    "    \n",
    "    # 这里开始是算法\n",
    "    x1 = f(x0)\n",
    "    c = 1\n",
    "    print ('x0: {0}'.format(x0))\n",
    "    while c<maxiter and abs(x0-x1)>e:\n",
    "        print ('x{0}: {1}'.format(c,x1)) # 打印解\n",
    "        plt.scatter(x0,f(x0), 5, color ='red')        \n",
    "        x0 = x1\n",
    "        \n",
    "        try:\n",
    "            x1 = f(x0) # 迭代\n",
    "        except Exception as err: \n",
    "            print(err) # 若迭代不收敛则x值会越来越大而溢出\n",
    "            print(\"Not Convergence\")\n",
    "            return\n",
    "        finally:\n",
    "            c+=1\n",
    "\n",
    "    plt.show()    \n",
    "    if c==maxiter:\n",
    "        print(\"Not Convergence\")"
   ]
  },
  {
   "cell_type": "markdown",
   "metadata": {},
   "source": [
    "<br>\n",
    "\n",
    "同时为了之后分析初始值选取对迭代收敛的影响，构建如下函数进行判断："
   ]
  },
  {
   "cell_type": "code",
   "execution_count": 333,
   "metadata": {},
   "outputs": [],
   "source": [
    "import warnings\n",
    "# 捕捉所有溢出的错误\n",
    "warnings.simplefilter(\"error\", RuntimeWarning)\n",
    "    \n",
    "def IfConvergence(f, X0, maxiter, e):\n",
    "    for x0 in X0:\n",
    "        flag = 0\n",
    "        print('x0={0}, '.format(x0), end='') \n",
    "        \n",
    "        try:\n",
    "            x1 = f(x0) \n",
    "        except Exception as err: \n",
    "            print(err, end='') \n",
    "            print(', inappropriate x0:{0}'.format(x0))\n",
    "            break\n",
    "            \n",
    "        c = 1\n",
    "        while c<maxiter and abs(x0-x1)>e:       \n",
    "            x0 = x1\n",
    "            try:\n",
    "                x1 = f(x0) # 迭代\n",
    "            except Exception as err: \n",
    "                print(err, end='') # 若迭代不收敛则x值会越来越大而溢出\n",
    "                flag = 1\n",
    "                break\n",
    "            finally:\n",
    "                c+=1 \n",
    "                \n",
    "        if c<maxiter and flag==0:\n",
    "            print('convergence to x{0}={1}'.format(c-1,x1))\n",
    "        else:\n",
    "            print(', not convergence')"
   ]
  },
  {
   "cell_type": "markdown",
   "metadata": {},
   "source": [
    "<br>\n",
    "\n",
    "2）对于第一个迭代格式 $$x = \\frac{3x+1}{x^2}$$ "
   ]
  },
  {
   "cell_type": "code",
   "execution_count": 145,
   "metadata": {},
   "outputs": [
    {
     "data": {
      "image/png": "[encoded data removed]",
      "text/plain": [
       "<matplotlib.figure.Figure at 0x11358b2b0>"
      ]
     },
     "metadata": {},
     "output_type": "display_data"
    }
   ],
   "source": [
    "y = lambda x: x\n",
    "f = lambda x: (3*x+1)/x**2\n",
    "x = np.linspace(-3,3)\n",
    "x1 = np.linspace(-3,-0.2)\n",
    "x2 = np.linspace(0.5,3)\n",
    "\n",
    "\n",
    "plt.plot(x, y(x), 'blue') \n",
    "plt.plot(x1, f(x1), 'green')\n",
    "plt.plot(x2, f(x2), 'green')\n",
    "ax = gca()\n",
    "ax.spines['right'].set_color('none')\n",
    "ax.spines['top'].set_color('none')\n",
    "ax.xaxis.set_ticks_position('bottom')\n",
    "ax.spines['bottom'].set_position(('data',0))\n",
    "ax.yaxis.set_ticks_position('left')\n",
    "ax.spines['left'].set_position(('data',0))\n",
    "plt.show()"
   ]
  },
  {
   "cell_type": "markdown",
   "metadata": {},
   "source": [
    "首先，取（-5,5）区间之间的不同初始值，观察敛散情况：\n"
   ]
  },
  {
   "cell_type": "code",
   "execution_count": 187,
   "metadata": {
    "scrolled": true
   },
   "outputs": [
    {
     "name": "stdout",
     "output_type": "stream",
     "text": [
      "x0=-5.0, convergence to x39=-1.5320857828125416\n",
      "x0=-4.795918367346939, convergence to x39=-1.532085650200263\n",
      "x0=-4.591836734693878, convergence to x39=-1.5320855553096104\n",
      "x0=-4.387755102040816, convergence to x39=-1.5320854961661328\n",
      "x0=-4.183673469387755, convergence to x39=-1.532085471508605\n",
      "x0=-3.979591836734694, convergence to x39=-1.532085480763201\n",
      "x0=-3.7755102040816326, convergence to x39=-1.5320855240265976\n",
      "x0=-3.571428571428571, convergence to x39=-1.53208560205728\n",
      "x0=-3.36734693877551, convergence to x39=-1.5320857162731982\n",
      "x0=-3.163265306122449, convergence to x38=-1.5320930659709586\n",
      "x0=-2.9591836734693877, convergence to x38=-1.5320927979715828\n",
      "x0=-2.7551020408163263, convergence to x38=-1.5320924685077533\n",
      "x0=-2.5510204081632653, convergence to x38=-1.5320920720881965\n",
      "x0=-2.3469387755102042, convergence to x37=-1.5320851236654718\n",
      "x0=-2.142857142857143, convergence to x36=-1.532093044565959\n",
      "x0=-1.9387755102040813, convergence to x35=-1.5320848129906954\n",
      "x0=-1.7346938775510203, convergence to x33=-1.5320847655983336\n",
      "x0=-1.5306122448979593, convergence to x18=-1.5320846946621307\n",
      "x0=-1.3265306122448979, convergence to x34=-1.5320855723768467\n",
      "x0=-1.1224489795918364, convergence to x36=-1.5320853518952937\n",
      "x0=-0.9183673469387754, convergence to x37=-1.5320926932280896\n",
      "x0=-0.7142857142857144, convergence to x38=-1.5320855078873659\n",
      "x0=-0.5102040816326525, convergence to x37=-1.5320924424526245\n",
      "x0=-0.3061224489795915, overflow encountered in double_scalarsnot convergence\n",
      "x0=-0.1020408163265305, overflow encountered in double_scalarsnot convergence\n",
      "x0=0.1020408163265305, overflow encountered in double_scalarsnot convergence\n",
      "x0=0.3061224489795915, overflow encountered in double_scalarsnot convergence\n",
      "x0=0.5102040816326534, overflow encountered in double_scalarsnot convergence\n",
      "x0=0.7142857142857144, overflow encountered in double_scalarsnot convergence\n",
      "x0=0.9183673469387754, overflow encountered in double_scalarsnot convergence\n",
      "x0=1.1224489795918373, overflow encountered in double_scalarsnot convergence\n",
      "x0=1.3265306122448983, overflow encountered in double_scalarsnot convergence\n",
      "x0=1.5306122448979593, overflow encountered in double_scalarsnot convergence\n",
      "x0=1.7346938775510203, overflow encountered in double_scalarsnot convergence\n",
      "x0=1.9387755102040813, overflow encountered in double_scalarsnot convergence\n",
      "x0=2.1428571428571432, overflow encountered in double_scalarsnot convergence\n",
      "x0=2.3469387755102042, overflow encountered in double_scalarsnot convergence\n",
      "x0=2.5510204081632653, overflow encountered in double_scalarsnot convergence\n",
      "x0=2.755102040816327, overflow encountered in double_scalarsnot convergence\n",
      "x0=2.959183673469388, overflow encountered in double_scalarsnot convergence\n",
      "x0=3.163265306122449, overflow encountered in double_scalarsnot convergence\n",
      "x0=3.36734693877551, overflow encountered in double_scalarsnot convergence\n",
      "x0=3.571428571428571, overflow encountered in double_scalarsnot convergence\n",
      "x0=3.775510204081632, overflow encountered in double_scalarsnot convergence\n",
      "x0=3.979591836734695, overflow encountered in double_scalarsnot convergence\n",
      "x0=4.183673469387756, overflow encountered in double_scalarsnot convergence\n",
      "x0=4.387755102040817, overflow encountered in double_scalarsnot convergence\n",
      "x0=4.591836734693878, overflow encountered in double_scalarsnot convergence\n",
      "x0=4.795918367346939, overflow encountered in double_scalarsnot convergence\n",
      "x0=5.0, overflow encountered in double_scalarsnot convergence\n"
     ]
    }
   ],
   "source": [
    "y1 = lambda x: (3*x+1)/x**2\n",
    "x1 = np.linspace(-5,5)\n",
    "IfConvergence(y1, x1, 50, 10**(-5))"
   ]
  },
  {
   "cell_type": "markdown",
   "metadata": {},
   "source": [
    "由此可知，该函数仅在初始值约为 $(-\\infty,-0.51)$ 之间收敛，且收敛至 $x3 \\approx -1.53209$。\n",
    "\n",
    "现在取初始值-3，最大迭代次数50，精度要求 $10^{-5}$，观察其收敛的迭代情况："
   ]
  },
  {
   "cell_type": "code",
   "execution_count": 192,
   "metadata": {},
   "outputs": [
    {
     "name": "stdout",
     "output_type": "stream",
     "text": [
      "x0: -3\n",
      "x1: -0.8888888888888888\n",
      "x2: -2.109375\n",
      "x3: -1.1974759945130315\n",
      "x4: -1.8078944384152127\n",
      "x5: -1.3534365214806259\n",
      "x6: -1.6706657786330548\n",
      "x7: -1.4374127158312608\n",
      "x8: -1.6030925276681738\n",
      "x9: -1.4822635919129568\n",
      "x10: -1.5687872074346545\n",
      "x11: -1.505981759803583\n",
      "x12: -1.5511352101304903\n",
      "x13: -1.5184433055895672\n",
      "x14: -1.5419942165610394\n",
      "x15: -1.5249662494351446\n",
      "x16: -1.53724568209842\n",
      "x17: -1.528373715240061\n",
      "x18: -1.5347749963581303\n",
      "x19: -1.530151781370138\n",
      "x20: -1.5334884354549627\n",
      "x21: -1.5310790715542695\n",
      "x22: -1.5328182011487097\n",
      "x23: -1.5315625231832488\n",
      "x24: -1.5324689658259945\n",
      "x25: -1.5318145357634623\n",
      "x26: -1.53228697094181\n",
      "x27: -1.5319458935508674\n",
      "x28: -1.5321921234239924\n",
      "x29: -1.5320143589057549\n",
      "x30: -1.5321426916515177\n",
      "x31: -1.5320500431269488\n",
      "x32: -1.5321169288320136\n",
      "x33: -1.5320686415677018\n",
      "x34: -1.5321035016695697\n",
      "x35: -1.5320783349249296\n",
      "x36: -1.5320965036203165\n",
      "x37: -1.5320833870085413\n"
     ]
    },
    {
     "data": {
      "image/png": "[encoded data removed]",
      "text/plain": [
       "<matplotlib.figure.Figure at 0x1131384e0>"
      ]
     },
     "metadata": {},
     "output_type": "display_data"
    }
   ],
   "source": [
    "y1 = lambda x: (3*x+1)/x**2\n",
    "x1 = np.linspace(-3,-0.3)\n",
    "Iteration(y1, x1, -3, 50, 10**(-5))"
   ]
  },
  {
   "cell_type": "markdown",
   "metadata": {},
   "source": [
    "3）与上文分析同理，对于第二个迭代格式 $$x = \\frac{x^3-1}{3}$$"
   ]
  },
  {
   "cell_type": "code",
   "execution_count": 189,
   "metadata": {},
   "outputs": [
    {
     "data": {
      "image/png": "[encoded data removed]",
      "text/plain": [
       "<matplotlib.figure.Figure at 0x112fb3f98>"
      ]
     },
     "metadata": {},
     "output_type": "display_data"
    }
   ],
   "source": [
    "y = lambda x: x\n",
    "f = lambda x: (x**3-1)/3\n",
    "x = np.linspace(-2,2)\n",
    "\n",
    "plt.plot(x, y(x), 'blue') \n",
    "plt.plot(x, f(x), 'green')\n",
    "ax = gca()\n",
    "ax.spines['right'].set_color('none')\n",
    "ax.spines['top'].set_color('none')\n",
    "ax.xaxis.set_ticks_position('bottom')\n",
    "ax.spines['bottom'].set_position(('data',0))\n",
    "ax.yaxis.set_ticks_position('left')\n",
    "ax.spines['left'].set_position(('data',0))\n",
    "plt.show()"
   ]
  },
  {
   "cell_type": "markdown",
   "metadata": {},
   "source": [
    "首先直接取（-3,3）区间之间的不同初始值，观察敛散情况："
   ]
  },
  {
   "cell_type": "code",
   "execution_count": 195,
   "metadata": {
    "scrolled": true
   },
   "outputs": [
    {
     "name": "stdout",
     "output_type": "stream",
     "text": [
      "x0=-3.0, overflow encountered in double_scalarsnot convergence\n",
      "x0=-2.877551020408163, overflow encountered in double_scalarsnot convergence\n",
      "x0=-2.7551020408163267, overflow encountered in double_scalarsnot convergence\n",
      "x0=-2.63265306122449, overflow encountered in double_scalarsnot convergence\n",
      "x0=-2.510204081632653, overflow encountered in double_scalarsnot convergence\n",
      "x0=-2.387755102040816, overflow encountered in double_scalarsnot convergence\n",
      "x0=-2.2653061224489797, overflow encountered in double_scalarsnot convergence\n",
      "x0=-2.142857142857143, overflow encountered in double_scalarsnot convergence\n",
      "x0=-2.020408163265306, overflow encountered in double_scalarsnot convergence\n",
      "x0=-1.8979591836734695, overflow encountered in double_scalarsnot convergence\n",
      "x0=-1.7755102040816326, overflow encountered in double_scalarsnot convergence\n",
      "x0=-1.653061224489796, overflow encountered in double_scalarsnot convergence\n",
      "x0=-1.5306122448979593, convergence to x15=-0.34729698552538396\n",
      "x0=-1.4081632653061225, convergence to x10=-0.34729671533882245\n",
      "x0=-1.2857142857142858, convergence to x9=-0.3472968133187051\n",
      "x0=-1.163265306122449, convergence to x8=-0.3472975081417824\n",
      "x0=-1.0408163265306123, convergence to x8=-0.3472968102249316\n",
      "x0=-0.9183673469387754, convergence to x8=-0.34729655809060095\n",
      "x0=-0.795918367346939, convergence to x7=-0.3472971402625171\n",
      "x0=-0.6734693877551021, convergence to x7=-0.34729671560955405\n",
      "x0=-0.5510204081632653, convergence to x6=-0.3472975785939989\n",
      "x0=-0.4285714285714288, convergence to x6=-0.34729668154714854\n",
      "x0=-0.30612244897959195, convergence to x5=-0.34729543729110496\n",
      "x0=-0.18367346938775508, convergence to x6=-0.3472960632376849\n",
      "x0=-0.06122448979591866, convergence to x6=-0.34729601662435955\n",
      "x0=0.06122448979591821, convergence to x6=-0.3472960130644596\n",
      "x0=0.18367346938775508, convergence to x6=-0.34729596711823496\n",
      "x0=0.30612244897959195, convergence to x6=-0.3472957994034224\n",
      "x0=0.4285714285714284, convergence to x6=-0.3472954560808403\n",
      "x0=0.5510204081632653, convergence to x7=-0.34729618472214735\n",
      "x0=0.6734693877551021, convergence to x7=-0.34729611243337294\n",
      "x0=0.7959183673469385, convergence to x7=-0.3472960500306121\n",
      "x0=0.9183673469387754, convergence to x7=-0.34729601813722316\n",
      "x0=1.0408163265306118, convergence to x7=-0.3472960142484074\n",
      "x0=1.1632653061224492, convergence to x7=-0.347295960911624\n",
      "x0=1.2857142857142856, convergence to x7=-0.3472956290297691\n",
      "x0=1.408163265306122, convergence to x8=-0.3472961575975481\n",
      "x0=1.5306122448979593, convergence to x8=-0.34729602822583666\n",
      "x0=1.6530612244897958, convergence to x8=-0.34729594979607836\n",
      "x0=1.7755102040816322, convergence to x9=-0.34729602720576797\n",
      "x0=1.8979591836734695, overflow encountered in double_scalarsnot convergence\n",
      "x0=2.020408163265306, overflow encountered in double_scalarsnot convergence\n",
      "x0=2.1428571428571423, overflow encountered in double_scalarsnot convergence\n",
      "x0=2.2653061224489797, overflow encountered in double_scalarsnot convergence\n",
      "x0=2.387755102040816, overflow encountered in double_scalarsnot convergence\n",
      "x0=2.5102040816326525, overflow encountered in double_scalarsnot convergence\n",
      "x0=2.63265306122449, overflow encountered in double_scalarsnot convergence\n",
      "x0=2.7551020408163263, overflow encountered in double_scalarsnot convergence\n",
      "x0=2.8775510204081627, overflow encountered in double_scalarsnot convergence\n",
      "x0=3.0, overflow encountered in double_scalarsnot convergence\n"
     ]
    }
   ],
   "source": [
    "f = lambda x: (x**3-1)/3\n",
    "x = np.linspace(-3,3)\n",
    "IfConvergence(f, x, 50, 10**(-5))"
   ]
  },
  {
   "cell_type": "markdown",
   "metadata": {},
   "source": [
    "可见，大约在 $(-1.53061,1.77551)$ 之间的初始值才能让该迭代函数收敛，且均收敛于 $-0.34730 \\approx x2$。\n",
    "\n",
    "那么下面选择初始值-1.2，精度要求 $10^{-5}$，打印其迭代解："
   ]
  },
  {
   "cell_type": "code",
   "execution_count": 200,
   "metadata": {},
   "outputs": [
    {
     "name": "stdout",
     "output_type": "stream",
     "text": [
      "x0: -1.2\n",
      "x1: -0.9093333333333332\n",
      "x2: -0.583972004345679\n",
      "x3: -0.39971602037182646\n",
      "x4: -0.3546212621762968\n",
      "x5: -0.34819861213635583\n",
      "x6: -0.3474054637875858\n",
      "x7: -0.3473095195585254\n",
      "x8: -0.3472979431938246\n"
     ]
    },
    {
     "data": {
      "image/png": "[encoded data removed]",
      "text/plain": [
       "<matplotlib.figure.Figure at 0x11335dd30>"
      ]
     },
     "metadata": {},
     "output_type": "display_data"
    }
   ],
   "source": [
    "x = np.linspace(-1.5,0)\n",
    "Iteration(f, x, -1.2, 50, 10**(-5))"
   ]
  },
  {
   "cell_type": "markdown",
   "metadata": {},
   "source": [
    "4）与上文分析同理，对于第三个迭代格式 $$x = \\sqrt{3+\\frac{1}{x}}$$"
   ]
  },
  {
   "cell_type": "code",
   "execution_count": 314,
   "metadata": {},
   "outputs": [
    {
     "data": {
      "image/png": "[encoded data removed]",
      "text/plain": [
       "<matplotlib.figure.Figure at 0x112fc5e48>"
      ]
     },
     "metadata": {},
     "output_type": "display_data"
    }
   ],
   "source": [
    "from sympy.abc import x\n",
    "y = lambda x: x\n",
    "#f = lambda x: sqrt(3+(1/x))\n",
    "f = sqrt(3+(1/x))\n",
    "\n",
    "x0 = np.linspace(-3,3)\n",
    "x1 = np.linspace(-3,-0.334)\n",
    "x2 = np.linspace(0.1,3)\n",
    "\n",
    "plt.plot(x0, y(x0), 'b') \n",
    "plt.plot(x1, [f.evalf(subs={x:xval}) for xval in x1], 'g')\n",
    "plt.plot(x2, [f.evalf(subs={x:xval}) for xval in x2], 'g')\n",
    "\n",
    "ax = gca()\n",
    "ax.spines['right'].set_color('none')\n",
    "ax.spines['top'].set_color('none')\n",
    "ax.xaxis.set_ticks_position('bottom')\n",
    "ax.spines['bottom'].set_position(('data',0))\n",
    "ax.yaxis.set_ticks_position('left')\n",
    "ax.spines['left'].set_position(('data',0))\n",
    "plt.show()"
   ]
  },
  {
   "cell_type": "markdown",
   "metadata": {},
   "source": [
    "首先取其合法定义域（-3,-1/3）以及（0,3）区间之间的不同初始值，观察敛散情况："
   ]
  },
  {
   "cell_type": "code",
   "execution_count": 322,
   "metadata": {
    "scrolled": true
   },
   "outputs": [
    {
     "name": "stdout",
     "output_type": "stream",
     "text": [
      "x0=-3.0, convergence to x6=1.87938591836182\n",
      "x0=-2.945578231292517, convergence to x6=1.87938592423963\n",
      "x0=-2.891156462585034, convergence to x6=1.87938593035862\n",
      "x0=-2.836734693877551, convergence to x6=1.87938593673398\n",
      "x0=-2.7823129251700682, convergence to x7=1.87938518870999\n",
      "x0=-2.727891156462585, convergence to x7=1.87938518818733\n",
      "x0=-2.673469387755102, convergence to x7=1.87938518764131\n",
      "x0=-2.619047619047619, convergence to x7=1.87938518707031\n",
      "x0=-2.564625850340136, convergence to x7=1.87938518647258\n",
      "x0=-2.510204081632653, convergence to x7=1.87938518584620\n",
      "x0=-2.4557823129251704, convergence to x7=1.87938518518905\n",
      "x0=-2.4013605442176873, convergence to x7=1.87938518449880\n",
      "x0=-2.3469387755102042, convergence to x7=1.87938518377289\n",
      "x0=-2.292517006802721, convergence to x7=1.87938518300847\n",
      "x0=-2.238095238095238, convergence to x7=1.87938518220239\n",
      "x0=-2.183673469387755, convergence to x7=1.87938518135115\n",
      "x0=-2.129251700680272, convergence to x7=1.87938518045084\n",
      "x0=-2.074829931972789, convergence to x7=1.87938517949707\n",
      "x0=-2.020408163265306, convergence to x7=1.87938517848493\n",
      "x0=-1.965986394557823, convergence to x7=1.87938517740888\n",
      "x0=-1.9115646258503403, convergence to x7=1.87938517626267\n",
      "x0=-1.8571428571428572, convergence to x7=1.87938517503917\n",
      "x0=-1.8027210884353742, convergence to x7=1.87938517373027\n",
      "x0=-1.748299319727891, convergence to x7=1.87938517232670\n",
      "x0=-1.6938775510204083, convergence to x7=1.87938517081776\n",
      "x0=-1.6394557823129252, convergence to x7=1.87938516919109\n",
      "x0=-1.5850340136054422, convergence to x7=1.87938516743231\n",
      "x0=-1.5306122448979593, convergence to x7=1.87938516552457\n",
      "x0=-1.4761904761904763, convergence to x7=1.87938516344805\n",
      "x0=-1.4217687074829932, convergence to x7=1.87938516117921\n",
      "x0=-1.3673469387755102, convergence to x7=1.87938515868992\n",
      "x0=-1.3129251700680273, convergence to x7=1.87938515594624\n",
      "x0=-1.2585034013605443, convergence to x7=1.87938515290685\n",
      "x0=-1.2040816326530612, convergence to x7=1.87938514952092\n",
      "x0=-1.1496598639455784, convergence to x7=1.87938514572520\n",
      "x0=-1.0952380952380953, convergence to x7=1.87938514143991\n",
      "x0=-1.0408163265306123, convergence to x7=1.87938513656298\n",
      "x0=-0.9863945578231292, convergence to x7=1.87938513096157\n",
      "x0=-0.9319727891156462, convergence to x7=1.87938512445942\n",
      "x0=-0.8775510204081631, convergence to x7=1.87938511681737\n",
      "x0=-0.8231292517006805, convergence to x7=1.87938510770213\n",
      "x0=-0.7687074829931975, convergence to x7=1.87938509663422\n",
      "x0=-0.7142857142857144, convergence to x7=1.87938508289648\n",
      "x0=-0.6598639455782314, convergence to x7=1.87938506536246\n",
      "x0=-0.6054421768707483, convergence to x7=1.87938504214734\n",
      "x0=-0.5510204081632653, convergence to x7=1.87938500981554\n",
      "x0=-0.4965986394557822, convergence to x7=1.87938496128243\n",
      "x0=-0.4421768707482996, convergence to x7=1.87938487876313\n",
      "x0=-0.38775510204081653, convergence to x7=1.87938469682997\n",
      "x0=-0.3333333333333333, convergence to x8=sqrt(1/sqrt(1/sqrt(1/sqrt(1/sqrt(sqrt(3)/3 + 3) + 3) + 3) + 3) + 3)\n",
      "x0=0.01, convergence to x7=1.87938554774135\n",
      "x0=0.07102040816326531, convergence to x7=1.87938544017132\n",
      "x0=0.1320408163265306, convergence to x7=1.87938539317469\n",
      "x0=0.19306122448979593, convergence to x7=1.87938536366771\n",
      "x0=0.2540816326530612, convergence to x7=1.87938534291860\n",
      "x0=0.31510204081632653, convergence to x7=1.87938532738231\n",
      "x0=0.37612244897959185, convergence to x7=1.87938531525580\n",
      "x0=0.43714285714285717, convergence to x7=1.87938530550152\n",
      "x0=0.4981632653061225, convergence to x7=1.87938529747237\n",
      "x0=0.5591836734693878, convergence to x6=1.87938458878893\n",
      "x0=0.6202040816326531, convergence to x6=1.87938466484957\n",
      "x0=0.6812244897959184, convergence to x6=1.87938473040060\n",
      "x0=0.7422448979591837, convergence to x6=1.87938478750011\n",
      "x0=0.8032653061224491, convergence to x6=1.87938483769706\n",
      "x0=0.8642857142857143, convergence to x6=1.87938488218080\n",
      "x0=0.9253061224489797, convergence to x6=1.87938492188043\n",
      "x0=0.986326530612245, convergence to x6=1.87938495753277\n",
      "x0=1.0473469387755103, convergence to x6=1.87938498972988\n",
      "x0=1.1083673469387756, convergence to x6=1.87938501895316\n",
      "x0=1.1693877551020408, convergence to x6=1.87938504559816\n",
      "x0=1.230408163265306, convergence to x6=1.87938506999298\n",
      "x0=1.2914285714285716, convergence to x6=1.87938509241210\n",
      "x0=1.3524489795918369, convergence to x6=1.87938511308698\n",
      "x0=1.4134693877551021, convergence to x6=1.87938513221415\n",
      "x0=1.4744897959183674, convergence to x6=1.87938514996160\n",
      "x0=1.5355102040816326, convergence to x6=1.87938516647381\n",
      "x0=1.5965306122448981, convergence to x6=1.87938518187570\n",
      "x0=1.6575510204081634, convergence to x5=1.87938584293506\n",
      "x0=1.7185714285714286, convergence to x5=1.87938566379377\n",
      "x0=1.779591836734694, convergence to x5=1.87938549558763\n",
      "x0=1.8406122448979594, convergence to x5=1.87938533734322\n",
      "x0=1.9016326530612246, convergence to x5=1.87938518819954\n",
      "x0=1.96265306122449, convergence to x5=1.87938504739219\n",
      "x0=2.023673469387755, convergence to x5=1.87938491424018\n",
      "x0=2.0846938775510204, convergence to x5=1.87938478813485\n",
      "x0=2.1457142857142855, convergence to x5=1.87938466853046\n",
      "x0=2.206734693877551, convergence to x5=1.87938455493630\n",
      "x0=2.2677551020408164, convergence to x6=1.87938530142747\n",
      "x0=2.3287755102040815, convergence to x6=1.87938530917501\n",
      "x0=2.389795918367347, convergence to x6=1.87938531656061\n",
      "x0=2.450816326530612, convergence to x6=1.87938532360910\n",
      "x0=2.5118367346938775, convergence to x6=1.87938533034305\n",
      "x0=2.572857142857143, convergence to x6=1.87938533678308\n",
      "x0=2.633877551020408, convergence to x6=1.87938534294804\n",
      "x0=2.6948979591836735, convergence to x6=1.87938534885520\n",
      "x0=2.7559183673469385, convergence to x6=1.87938535452042\n",
      "x0=2.816938775510204, convergence to x6=1.87938535995827\n",
      "x0=2.8779591836734695, convergence to x6=1.87938536518218\n",
      "x0=2.9389795918367345, convergence to x6=1.87938537020454\n",
      "x0=3.0, convergence to x6=1.87938537503680\n"
     ]
    }
   ],
   "source": [
    "f = lambda x: sqrt(3+(1/x))\n",
    "x1 = np.linspace(-3,-1./3)\n",
    "x2 = np.linspace(0.01,3)\n",
    "IfConvergence(f, x1, 50, 10**(-5))\n",
    "IfConvergence(f, x2, 50, 10**(-5))"
   ]
  },
  {
   "cell_type": "markdown",
   "metadata": {},
   "source": [
    "可见这里在该函数的合法定义域内除了$-\\frac{1}{3}$不能做初始值之外，其他的值做初始值均使该迭代函数收敛，且收敛于$1.87938 \\approx x3$\n",
    "\n",
    "那么下面选择初始值0.1，精度要求 $10^{-5}$，打印其迭代解："
   ]
  },
  {
   "cell_type": "code",
   "execution_count": 332,
   "metadata": {},
   "outputs": [
    {
     "name": "stdout",
     "output_type": "stream",
     "text": [
      "x0: 0.1\n",
      "x1: 3.60555127546399\n",
      "x2: 1.81034529803367\n",
      "x3: 1.88477606331252\n",
      "x4: 1.87898031117177\n",
      "x5: 1.87941574811568\n",
      "x6: 1.87938294378998\n"
     ]
    },
    {
     "data": {
      "image/png": "[encoded data removed]",
      "text/plain": [
       "<matplotlib.figure.Figure at 0x1135c8ba8>"
      ]
     },
     "metadata": {},
     "output_type": "display_data"
    }
   ],
   "source": [
    "x = np.linspace(0.05,3.8)\n",
    "Iteration(f, x, 0.1, 50, 10**(-5))"
   ]
  },
  {
   "cell_type": "markdown",
   "metadata": {},
   "source": [
    "对于"
   ]
  },
  {
   "cell_type": "code",
   "execution_count": 301,
   "metadata": {},
   "outputs": [
    {
     "data": {
      "text/plain": [
       "-1/(2*x**2*sqrt(3 + 1/x))"
      ]
     },
     "execution_count": 301,
     "metadata": {},
     "output_type": "execute_result"
    }
   ],
   "source": [
    "from sympy import *\n",
    "x=Symbol(\"x\")\n",
    "diff(sqrt(3+1/x))"
   ]
  },
  {
   "cell_type": "code",
   "execution_count": 246,
   "metadata": {},
   "outputs": [
    {
     "data": {
      "text/plain": [
       "3/x**2 - 2*(3*x + 1)/x**3"
      ]
     },
     "execution_count": 246,
     "metadata": {},
     "output_type": "execute_result"
    }
   ],
   "source": [
    "diff((3*x+1)/x**2)"
   ]
  },
  {
   "cell_type": "code",
   "execution_count": 247,
   "metadata": {},
   "outputs": [
    {
     "data": {
      "text/plain": [
       "x**2"
      ]
     },
     "execution_count": 247,
     "metadata": {},
     "output_type": "execute_result"
    }
   ],
   "source": [
    "diff((x**3-1)/3)"
   ]
  },
  {
   "cell_type": "code",
   "execution_count": 336,
   "metadata": {},
   "outputs": [
    {
     "data": {
      "image/png": "[encoded data removed]",
      "text/plain": [
       "<matplotlib.figure.Figure at 0x113538198>"
      ]
     },
     "metadata": {},
     "output_type": "display_data"
    }
   ],
   "source": [
    "# 1\n",
    "d = lambda x: 3/x**2 - 2*(3*x + 1)/x**3\n",
    "x1 = np.linspace(-10,-0.4)\n",
    "x2 = np.linspace(1, 10)\n",
    "\n",
    "plt.plot(x1,d(x1),'r')\n",
    "plt.plot(x2,d(x2),'r')\n",
    "plt.plot([-10,10],[1,1],'blue')\n",
    "plt.plot([-10,10],[-1,-1],'blue')\n",
    "\n",
    "annotate(r'$ \\approx -0.5102$',\n",
    "         xy=(-0.5102, 1), xycoords='data',\n",
    "         xytext=(+10, +30), textcoords='offset points', \n",
    "         arrowprops=dict(arrowstyle=\"->\", connectionstyle=\"arc3,rad=.2\"))\n",
    "\n",
    "ax = gca()\n",
    "ax.spines['right'].set_color('none')\n",
    "ax.spines['top'].set_color('none')\n",
    "ax.xaxis.set_ticks_position('bottom')\n",
    "ax.spines['bottom'].set_position(('data',0))\n",
    "ax.yaxis.set_ticks_position('left')\n",
    "ax.spines['left'].set_position(('data',0))\n",
    "\n",
    "plt.show()"
   ]
  },
  {
   "cell_type": "code",
   "execution_count": 290,
   "metadata": {},
   "outputs": [
    {
     "name": "stdout",
     "output_type": "stream",
     "text": [
      "x0: 5\n",
      "x1: 0.64\n",
      "x2: 7.128906249999999\n",
      "x3: 0.4404987051979734\n",
      "x4: 11.964062936564652\n",
      "x5: 0.25773716355793025\n",
      "x6: 26.69355692264941\n",
      "x7: 0.11379008921412473\n",
      "x8: 103.59523975380311\n",
      "x9: 0.029052039073822658\n",
      "x10: 1288.067655027982\n",
      "x11: 0.0023296729368384745\n",
      "x12: 185538.8350054476\n",
      "x13: 1.6169150731269518e-05\n",
      "x14: 3825133938.830047\n",
      "x15: 7.842862624515069e-10\n",
      "x16: 1.6257388535406208e+18\n",
      "x17: 1.845314820068697e-18\n",
      "x18: 2.9366964665684123e+35\n",
      "x19: 1.0215560355495503e-35\n",
      "x20: 9.582429040839332e+69\n",
      "x21: 3.130730201303142e-70\n",
      "x22: 1.0202549591413448e+139\n",
      "x23: 2.9404414780054837e-139\n",
      "x24: 1.1565779796138966e+277\n",
      "(34, 'Result too large')\n",
      "Not Convergence\n"
     ]
    }
   ],
   "source": [
    "y1 = lambda x: (3*x+1)/x**2\n",
    "x1 = np.linspace(1,10)\n",
    "Iteration(y1, x1, 5, 50, 10**(-5))"
   ]
  },
  {
   "cell_type": "code",
   "execution_count": 337,
   "metadata": {},
   "outputs": [
    {
     "data": {
      "image/png": "[encoded data removed]",
      "text/plain": [
       "<matplotlib.figure.Figure at 0x112fb3f98>"
      ]
     },
     "metadata": {},
     "output_type": "display_data"
    }
   ],
   "source": [
    "# 2\n",
    "d = lambda x: x**2\n",
    "x1 = np.linspace(-2,2)\n",
    "\n",
    "plt.plot(x1,d(x1),'r')\n",
    "plt.plot([-2,2],[1,1],'blue')\n",
    "ax = gca()\n",
    "ax.spines['right'].set_color('none')\n",
    "ax.spines['top'].set_color('none')\n",
    "ax.xaxis.set_ticks_position('bottom')\n",
    "ax.spines['bottom'].set_position(('data',0))\n",
    "ax.yaxis.set_ticks_position('left')\n",
    "ax.spines['left'].set_position(('data',0))\n",
    "plt.show()"
   ]
  },
  {
   "cell_type": "markdown",
   "metadata": {},
   "source": [
    "可见其实准确地来说是在$(-1,1)$之间的初始值使得该迭代函数收敛。"
   ]
  },
  {
   "cell_type": "code",
   "execution_count": 355,
   "metadata": {},
   "outputs": [
    {
     "data": {
      "image/png": "[encoded data removed]",
      "text/plain": [
       "<matplotlib.figure.Figure at 0x112fb6eb8>"
      ]
     },
     "metadata": {},
     "output_type": "display_data"
    }
   ],
   "source": [
    "# \n",
    "d = lambda x: -1/(2*x**2*sqrt(3 + 1/x))\n",
    "x1 = np.linspace(-6,-0.45)\n",
    "x2 = np.linspace(0.25,6)\n",
    "plt.plot(x1,[d(xval) for xval in x1],'r')\n",
    "plt.plot(x2,[d(xval) for xval in x2],'r')\n",
    "plt.plot([-6,6],[1,1],'blue')\n",
    "plt.plot([-6,6],[-1,-1],'blue')\n",
    "\n",
    "ax = gca()\n",
    "ax.spines['right'].set_color('none')\n",
    "ax.spines['top'].set_color('none')\n",
    "ax.xaxis.set_ticks_position('bottom')\n",
    "ax.spines['bottom'].set_position(('data',0))\n",
    "ax.yaxis.set_ticks_position('left')\n",
    "ax.spines['left'].set_position(('data',0))\n",
    "\n",
    "\n",
    "annotate(r'$-0.6498$',\n",
    "         xy=(-0.6498, -1), xycoords='data',\n",
    "         xytext=(-60, -40), textcoords='offset points', \n",
    "         arrowprops=dict(arrowstyle=\"->\", connectionstyle=\"arc3,rad=.2\"))\n",
    "\n",
    "\n",
    "\n",
    "annotate(r'$-0.4320$',\n",
    "         xy=(0.4320, -1), xycoords='data',\n",
    "         xytext=(10, -40), textcoords='offset points', \n",
    "         arrowprops=dict(arrowstyle=\"->\", connectionstyle=\"arc3,rad=.2\"))\n",
    "\n",
    "\n",
    "plt.show()"
   ]
  },
  {
   "cell_type": "code",
   "execution_count": 294,
   "metadata": {
    "collapsed": true
   },
   "outputs": [],
   "source": [
    "f = lambda x: sqrt(3+1/x)"
   ]
  },
  {
   "cell_type": "code",
   "execution_count": null,
   "metadata": {
    "collapsed": true
   },
   "outputs": [],
   "source": []
  }
 ],
 "metadata": {
  "anaconda-cloud": {},
  "kernelspec": {
   "display_name": "Python [conda root]",
   "language": "python",
   "name": "conda-root-py"
  },
  "language_info": {
   "codemirror_mode": {
    "name": "ipython",
    "version": 3
   },
   "file_extension": ".py",
   "mimetype": "text/x-python",
   "name": "python",
   "nbconvert_exporter": "python",
   "pygments_lexer": "ipython3",
   "version": "3.5.3"
  },
  "nbpresent": {
   "slides": {
    "46606ffa-ca84-48a9-90c6-38d7d549a2f0": {
     "id": "46606ffa-ca84-48a9-90c6-38d7d549a2f0",
     "prev": null,
     "regions": {
      "afc28b40-bc10-41de-b085-da09e5851f87": {
       "attrs": {
        "height": 0.8,
        "width": 0.8,
        "x": 0.1,
        "y": 0.1
       },
       "content": {
        "cell": "700c8186-5a58-4f3b-af87-331c67273716",
        "part": "whole"
       },
       "id": "afc28b40-bc10-41de-b085-da09e5851f87"
      }
     }
    },
    "8b359e7c-dd8c-4793-9e56-84a4460ea83a": {
     "id": "8b359e7c-dd8c-4793-9e56-84a4460ea83a",
     "prev": "46606ffa-ca84-48a9-90c6-38d7d549a2f0",
     "regions": {
      "0b05b7bc-73bb-4df4-a29a-46664a089f81": {
       "attrs": {
        "height": 0.8,
        "width": 0.8,
        "x": 0.1,
        "y": 0.1
       },
       "content": {
        "cell": "552d4329-3bd3-496b-9158-aea6492b9d01",
        "part": "whole"
       },
       "id": "0b05b7bc-73bb-4df4-a29a-46664a089f81"
      }
     }
    },
    "f015de1e-7355-4b39-8fff-4f497ed04531": {
     "id": "f015de1e-7355-4b39-8fff-4f497ed04531",
     "prev": "8b359e7c-dd8c-4793-9e56-84a4460ea83a",
     "regions": {
      "899c21a2-9f6f-484d-b303-8ed2e548047f": {
       "attrs": {
        "height": 0.8,
        "width": 0.8,
        "x": 0.1,
        "y": 0.1
       },
       "content": {
        "cell": "1d56c224-bc8d-47da-b1e0-5f431396fb63",
        "part": "whole"
       },
       "id": "899c21a2-9f6f-484d-b303-8ed2e548047f"
      }
     }
    }
   },
   "themes": {}
  }
 },
 "nbformat": 4,
 "nbformat_minor": 1
}
